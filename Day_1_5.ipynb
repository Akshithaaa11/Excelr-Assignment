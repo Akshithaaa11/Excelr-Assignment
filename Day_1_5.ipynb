{
  "nbformat": 4,
  "nbformat_minor": 0,
  "metadata": {
    "colab": {
      "provenance": []
    },
    "kernelspec": {
      "name": "python3",
      "display_name": "Python 3"
    },
    "language_info": {
      "name": "python"
    }
  },
  "cells": [
    {
      "cell_type": "code",
      "execution_count": 2,
      "metadata": {
        "colab": {
          "base_uri": "https://localhost:8080/"
        },
        "id": "KNkLJroX5rRE",
        "outputId": "f23a79a8-aad6-4031-9e09-851e46c7cf04"
      },
      "outputs": [
        {
          "output_type": "stream",
          "name": "stdout",
          "text": [
            "Enter the integer:5\n",
            "2\n",
            "4\n"
          ]
        }
      ],
      "source": [
        "##1.Write a program in Jupyter Notebook to declare variables of different data types (integer, float, string, and boolean). Print each variable and its type.\n",
        "n = int(input(\"Enter the integer:\"))\n",
        "for i in range(1,n):\n",
        "    if i%2==0:\n",
        "        print(i)"
      ]
    },
    {
      "cell_type": "code",
      "source": [
        "###2.Create a List, tuple and Dictionary with 5 elements in it and how to access few elements based on the index. Try  with different examples\n",
        "integer_var = 42\n",
        "float_var = 3.14\n",
        "string_var = \"Hello, World!\"\n",
        "boolean_var = True\n",
        "print(\"Integer Variable:\")\n",
        "print(\"Value:\", integer_var)\n",
        "print(\"Type:\", type(integer_var))\n",
        "print()\n",
        "print(\"Float Variable:\")\n",
        "print(\"Value:\", float_var)\n",
        "print(\"Type:\", type(float_var))\n",
        "print()\n",
        "print(\"String Variable:\")\n",
        "print(\"Value:\", string_var)\n",
        "print(\"Type:\", type(string_var))\n",
        "print()\n",
        "print(\"Boolean Variable:\")\n",
        "print(\"Value:\", boolean_var)\n",
        "print(\"Type:\", type(boolean_var))"
      ],
      "metadata": {
        "colab": {
          "base_uri": "https://localhost:8080/"
        },
        "id": "314oF9tR7KrM",
        "outputId": "e86b4a88-84cf-4a2e-ee1b-a9244c445b10"
      },
      "execution_count": 3,
      "outputs": [
        {
          "output_type": "stream",
          "name": "stdout",
          "text": [
            "Integer Variable:\n",
            "Value: 42\n",
            "Type: <class 'int'>\n",
            "\n",
            "Float Variable:\n",
            "Value: 3.14\n",
            "Type: <class 'float'>\n",
            "\n",
            "String Variable:\n",
            "Value: Hello, World!\n",
            "Type: <class 'str'>\n",
            "\n",
            "Boolean Variable:\n",
            "Value: True\n",
            "Type: <class 'bool'>\n"
          ]
        }
      ]
    },
    {
      "cell_type": "code",
      "source": [
        "####3.Write a Python program that takes a student's marks in three subjects as input.\n",
        "#If the average is greater than or equal to 90, print \"Grade: A\".\n",
        "#If the average is between 80 and 89, print \"Grade: B\".\n",
        "#If the average is between 70 and 79, print \"Grade: C\".\n",
        "#Otherwise, print \"Grade: Fail\".\n",
        "subject1 = float(input(\"Enter marks for Subject 1: \"))\n",
        "subject2 = float(input(\"Enter marks for Subject 2: \"))\n",
        "subject3 = float(input(\"Enter marks for Subject 3: \"))\n",
        "average = (subject1 + subject2 + subject3) / 3\n",
        "if average >= 90:\n",
        "    grade = \"A\"\n",
        "elif 80 <= average < 90:\n",
        "    grade = \"B\"\n",
        "elif 70 <= average < 80:\n",
        "    grade = \"C\"\n",
        "else:\n",
        "    grade = \"Fail\"\n",
        "print(f\"Average Marks: {average:.2f}\")\n",
        "print(f\"Grade: {grade}\")"
      ],
      "metadata": {
        "colab": {
          "base_uri": "https://localhost:8080/"
        },
        "id": "nsU-ZhVB7UQj",
        "outputId": "db12b7d1-ebce-472f-8f99-0b57c1b22816"
      },
      "execution_count": 4,
      "outputs": [
        {
          "output_type": "stream",
          "name": "stdout",
          "text": [
            "Enter marks for Subject 1: 59\n",
            "Enter marks for Subject 2: 80\n",
            "Enter marks for Subject 3: 90\n",
            "Average Marks: 76.33\n",
            "Grade: C\n"
          ]
        }
      ]
    },
    {
      "cell_type": "code",
      "source": [
        "####4.Write a Python program to calculate the sum of all even numbers between 1 and a given positive integer n\n",
        "my_list = [10, 20, 30, 40, 50]\n",
        "print(\"First element:\", my_list[0])\n",
        "print(\"Last element:\", my_list[-1])\n",
        "print(\"Slice of elements (index 1 to 3):\", my_list[1:4])\n",
        "my_tuple = ('apple', 'banana', 'cherry', 'date', 'elderberry')\n",
        "print(\"Second element:\", my_tuple[1])\n",
        "print(\"Last element:\", my_tuple[-1])\n",
        "print(\"Slice of elements (index 2 to 4):\", my_tuple[2:5])\n",
        "my_dict = {\n",
        "    \"name\": \"John\",\n",
        "    \"age\": 25,\n",
        "    \"city\": \"New York\",\n",
        "    \"profession\": \"Engineer\",\n",
        "    \"hobby\": \"Photography\"\n",
        "}\n",
        "print(\"Name:\", my_dict[\"name\"])\n",
        "print(\"City:\", my_dict[\"city\"])\n",
        "print(\"Hobby (using get method):\", my_dict.get(\"hobby\"))\n",
        "print(\"All Keys:\", list(my_dict.keys()))\n",
        "print(\"All Values:\", list(my_dict.values()))"
      ],
      "metadata": {
        "colab": {
          "base_uri": "https://localhost:8080/"
        },
        "id": "xrlfveW87VN_",
        "outputId": "7821999f-b165-4738-a871-443e0a0639f5"
      },
      "execution_count": 5,
      "outputs": [
        {
          "output_type": "stream",
          "name": "stdout",
          "text": [
            "First element: 10\n",
            "Last element: 50\n",
            "Slice of elements (index 1 to 3): [20, 30, 40]\n",
            "Second element: banana\n",
            "Last element: elderberry\n",
            "Slice of elements (index 2 to 4): ('cherry', 'date', 'elderberry')\n",
            "Name: John\n",
            "City: New York\n",
            "Hobby (using get method): Photography\n",
            "All Keys: ['name', 'age', 'city', 'profession', 'hobby']\n",
            "All Values: ['John', 25, 'New York', 'Engineer', 'Photography']\n"
          ]
        }
      ]
    },
    {
      "cell_type": "code",
      "source": [
        "###5.Write a Python program to calculate the frequency of each word in a given text. Print the words and their corresponding counts\n",
        "from collections import Counter\n",
        "def calculate_word_frequency(text):\n",
        "    words = text.lower().split()\n",
        "    word_count = Counter(words)\n",
        "    print(\"Word frequencies:\")\n",
        "    for word, count in word_count.items():\n",
        "        print(f\"{word}: {count}\")\n",
        "text = input(\"Enter a text: \")\n",
        "calculate_word_frequency(text)"
      ],
      "metadata": {
        "colab": {
          "base_uri": "https://localhost:8080/"
        },
        "id": "j_eWfbyB7tNI",
        "outputId": "9228c5b4-8433-4fd3-b93a-01da27962b4a"
      },
      "execution_count": 6,
      "outputs": [
        {
          "output_type": "stream",
          "name": "stdout",
          "text": [
            "Enter a text: hello\n",
            "Word frequencies:\n",
            "hello: 1\n"
          ]
        }
      ]
    },
    {
      "cell_type": "code",
      "source": [],
      "metadata": {
        "id": "MiicYgx573D-"
      },
      "execution_count": null,
      "outputs": []
    }
  ]
}