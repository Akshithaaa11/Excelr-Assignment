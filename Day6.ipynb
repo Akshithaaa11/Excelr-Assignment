{
  "nbformat": 4,
  "nbformat_minor": 0,
  "metadata": {
    "colab": {
      "provenance": [],
      "authorship_tag": "ABX9TyP8ta99hUGDG/tRbWcYSO+4",
      "include_colab_link": true
    },
    "kernelspec": {
      "name": "python3",
      "display_name": "Python 3"
    },
    "language_info": {
      "name": "python"
    }
  },
  "cells": [
    {
      "cell_type": "markdown",
      "metadata": {
        "id": "view-in-github",
        "colab_type": "text"
      },
      "source": [
        "<a href=\"https://colab.research.google.com/github/Akshithaaa11/Excelr-Assignment/blob/main/Day6.ipynb\" target=\"_parent\"><img src=\"https://colab.research.google.com/assets/colab-badge.svg\" alt=\"Open In Colab\"/></a>"
      ]
    },
    {
      "cell_type": "code",
      "execution_count": 1,
      "metadata": {
        "colab": {
          "base_uri": "https://localhost:8080/"
        },
        "id": "20Ti0mPnEWMw",
        "outputId": "01be30a1-9d13-42a0-dff0-fb71b95d19ab"
      },
      "outputs": [
        {
          "output_type": "stream",
          "name": "stderr",
          "text": [
            "[nltk_data] Downloading package stopwords to /root/nltk_data...\n",
            "[nltk_data]   Unzipping corpora/stopwords.zip.\n"
          ]
        },
        {
          "output_type": "stream",
          "name": "stdout",
          "text": [
            "Original Text: This is a simple example to demonstrate text processing with NLTK and SpaCy.\n",
            "Processed Text: simple example demonstrate text processing nltk spacy .\n"
          ]
        }
      ],
      "source": [
        "#6.Write a Python program to using NLTK and Spacy\n",
        "#Convert text to lowercase.\n",
        "#Remove stopwords using NLTK\n",
        "import nltk\n",
        "import spacy\n",
        "from nltk.corpus import stopwords\n",
        "nltk.download('stopwords')\n",
        "nlp = spacy.load(\"en_core_web_sm\")\n",
        "def process_text(text):\n",
        "    doc = nlp(text.lower())\n",
        "    stop_words = set(stopwords.words('english'))\n",
        "    filtered_tokens = [token.text for token in doc if token.text not in stop_words]\n",
        "    return \" \".join(filtered_tokens)\n",
        "if __name__ == \"__main__\":\n",
        "    input_text = \"This is a simple example to demonstrate text processing with NLTK and SpaCy.\"\n",
        "    processed_text = process_text(input_text)\n",
        "    print(\"Original Text:\", input_text)\n",
        "    print(\"Processed Text:\", processed_text)"
      ]
    },
    {
      "cell_type": "code",
      "source": [],
      "metadata": {
        "id": "Mkad0kRZEkrY"
      },
      "execution_count": null,
      "outputs": []
    }
  ]
}